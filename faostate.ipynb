{
 "cells": [
  {
   "cell_type": "code",
   "execution_count": 2,
   "id": "21ea75cb",
   "metadata": {},
   "outputs": [],
   "source": [
    "import faostat\n",
    "import pandas as pd\n",
    "import os\n",
    "import numpy as np"
   ]
  },
  {
   "cell_type": "code",
   "execution_count": 4,
   "id": "869648e9",
   "metadata": {},
   "outputs": [
    {
     "data": {
      "application/vnd.microsoft.datawrangler.viewer.v0+json": {
       "columns": [
        {
         "name": "index",
         "rawType": "int64",
         "type": "integer"
        },
        {
         "name": "code",
         "rawType": "object",
         "type": "string"
        },
        {
         "name": "label",
         "rawType": "object",
         "type": "string"
        },
        {
         "name": "date_update",
         "rawType": "object",
         "type": "string"
        },
        {
         "name": "note_update",
         "rawType": "object",
         "type": "string"
        },
        {
         "name": "release_current",
         "rawType": "object",
         "type": "string"
        },
        {
         "name": "state_current",
         "rawType": "object",
         "type": "string"
        },
        {
         "name": "year_current",
         "rawType": "object",
         "type": "string"
        },
        {
         "name": "release_next",
         "rawType": "object",
         "type": "string"
        },
        {
         "name": "state_next",
         "rawType": "object",
         "type": "string"
        },
        {
         "name": "year_next",
         "rawType": "object",
         "type": "string"
        }
       ],
       "conversionMethod": "pd.DataFrame",
       "ref": "46e3c968-abca-4e1e-a389-5a58782981c9",
       "rows": [
        [
         "0",
         "QCL",
         "Crops and livestock products",
         "2025-02-27",
         "minor revision",
         "2024-12-20 / 2025-02-27",
         "final",
         "2023",
         "2025-12",
         "final",
         "2024"
        ],
        [
         "1",
         "QI",
         "Production Indices",
         "2025-02-03",
         "",
         "2025-02-03",
         "final",
         "2023",
         "2025-12",
         "final",
         "2024"
        ],
        [
         "2",
         "QV",
         "Value of Agricultural Production",
         "2025-02-03",
         "",
         "2025-02-03",
         "final",
         "2023",
         "2025-12",
         "final",
         "2024"
        ],
        [
         "3",
         "FS",
         "Suite of Food Security Indicators",
         "2025-03-27",
         "minor revision",
         "2024-07-24 / 2025-03-27",
         "final",
         "2023",
         "2025-07",
         "final",
         "2024"
        ],
        [
         "4",
         "FBS",
         "Food Balances (2010-)",
         "2024-07-19",
         "",
         "2024-07-19",
         "final",
         "2022",
         "2025-07",
         "final",
         "2023"
        ],
        [
         "5",
         "SCL",
         "Supply Utilization Accounts (2010-)",
         "2024-07-19",
         "",
         "2024-07-19",
         "final",
         "2022",
         "2025-07",
         "final",
         "2023"
        ],
        [
         "6",
         "CB",
         "Commodity Balances (non-food) (2010-)",
         "2024-07-19",
         "",
         "2024-07-19",
         "final",
         "2022",
         "2025-07",
         "final",
         "2023"
        ],
        [
         "7",
         "FBSH",
         "Food Balances (-2013, old methodology and population)",
         "2023-03-10",
         "minor revision",
         "2016-12-20 / 2023-03-10",
         "final",
         "2013",
         "",
         "",
         ""
        ],
        [
         "8",
         "CBH",
         "Commodity Balances (non-food) (-2013, old methodology)",
         "2021-12-03",
         "minor revision",
         "2016-12-20 / 2021-12-03",
         "final",
         "2013",
         "",
         "final",
         ""
        ],
        [
         "9",
         "TCL",
         "Crops and livestock products",
         "2024-12-19",
         "",
         "2024-12-19",
         "final",
         "2023",
         "2025-12",
         "final",
         "2024"
        ],
        [
         "10",
         "TM",
         "Detailed trade matrix",
         "2024-12-19",
         "",
         "2024-12-19",
         "final",
         "2023",
         "2025-12",
         "final",
         "2024"
        ],
        [
         "11",
         "TI",
         "Trade Indices",
         "2024-12-19",
         "",
         "2024-12-19",
         "final",
         "2023",
         "2025-12",
         "final",
         "2024"
        ],
        [
         "12",
         "TCLI",
         "Crops and livestock products indicators",
         "2024-12-19",
         "",
         "2024-12-19",
         "final",
         "2023",
         "2025-12",
         "final",
         "2024"
        ],
        [
         "13",
         "PP",
         "Producer Prices",
         "2025-01-24",
         "",
         "2025-01-24",
         "final",
         "2024",
         "2025-12",
         "final",
         "2025"
        ],
        [
         "14",
         "CP",
         "Consumer Price Indices",
         "2025-02-04",
         "",
         "2025-02-04",
         "preliminary",
         "2024",
         "2025-04",
         "preliminary",
         "2025"
        ],
        [
         "15",
         "PD",
         "Deflators",
         "2024-06-12",
         "",
         "2024-06-12",
         "preliminary",
         "2023",
         "2024-10",
         "final",
         "2023"
        ],
        [
         "16",
         "PE",
         "Exchange rates",
         "2024-11-05",
         "",
         "2024-11-05",
         "final",
         "2024",
         "2025-01",
         "final",
         "2024"
        ],
        [
         "17",
         "CAHD",
         "Cost and Affordability of a Healthy Diet (CoAHD)",
         "2024-12-20",
         "",
         "2024-12-20",
         "final",
         "2022",
         "2025-07",
         "final",
         "2023"
        ],
        [
         "18",
         "SUA",
         "Availability (based on supply utilization accounts)",
         "2024-12-04",
         "",
         "2024-12-04",
         "final",
         "2022",
         "2025-09",
         "final",
         "2023"
        ],
        [
         "19",
         "HCES",
         "Apparent intake (based on household consumption and expenditure surveys)",
         "2024-12-04",
         "",
         "2024-12-04",
         "final",
         "",
         "2025-09",
         "final",
         ""
        ],
        [
         "20",
         "FDIQ",
         "Intake (based on individual quantitative dietary surveys)",
         "2024-12-04",
         "",
         "2024-12-04",
         "final",
         "",
         "2024-09",
         "final",
         ""
        ],
        [
         "21",
         "MDDW",
         "Diversity (MDD-W, based on individual qualitative dietary surveys)",
         "2024-12-12",
         "minor revision",
         "2024-12-04 / 2024-12-12",
         "final",
         "",
         "2025-09",
         "final",
         ""
        ],
        [
         "22",
         "RL",
         "Land Use",
         "2024-08-19",
         "minor revision",
         "2024-07-04 / 2024-08-19",
         "final",
         "2022",
         "2025-06",
         "final",
         "2023"
        ],
        [
         "23",
         "LC",
         "Land Cover",
         "2024-07-04",
         "",
         "2024-07-04",
         "final",
         "2022",
         "2025-06",
         "final",
         "2023"
        ],
        [
         "24",
         "RFN",
         "Fertilizers by Nutrient",
         "2025-03-11",
         "minor revision",
         "2024-07-17 / 2025-03-11",
         "final",
         "2022",
         "2025-06",
         "final",
         "2023"
        ],
        [
         "25",
         "RFB",
         "Fertilizers by Product",
         "2025-03-11",
         "minor revision",
         "2024-07-17 / 2025-03-11",
         "final",
         "2022",
         "2025-06",
         "final",
         "2023"
        ],
        [
         "26",
         "RFM",
         "Detailed trade matrix (fertilizers)",
         "2024-07-17",
         "",
         "2024-07-17",
         "final",
         "2022",
         "2025-06",
         "final",
         "2023"
        ],
        [
         "27",
         "EMN",
         "Livestock Manure",
         "2024-11-14",
         "",
         "2024-11-14",
         "final",
         "2022",
         "2025-10",
         "final",
         "2023"
        ],
        [
         "28",
         "RP",
         "Pesticides Use",
         "2024-09-26",
         "minor revision",
         "2024-07-16 / 2024-09-26",
         "final",
         "2022",
         "2025-06",
         "final",
         "2023"
        ],
        [
         "29",
         "RT",
         "Pesticides Trade",
         "2024-09-23",
         "minor revision",
         "2024-07-16 / 2024-09-23",
         "final",
         "2022",
         "2025-06",
         "final",
         "2023"
        ],
        [
         "30",
         "ESB",
         "Cropland Nutrient Balance",
         "2024-11-27",
         "",
         "2024-11-27",
         "final",
         "2022",
         "2025-11",
         "final",
         "2023"
        ],
        [
         "31",
         "EK",
         "Livestock Patterns",
         "2024-11-14",
         "",
         "2024-11-14",
         "final",
         "2022",
         "2025-10",
         "final",
         "2023"
        ],
        [
         "32",
         "BE",
         "Bioenergy",
         "2024-08-28",
         "minor revision",
         "2024-06-17 / 2024-08-28",
         "final",
         "2022",
         "2025-06",
         "final",
         "2023"
        ],
        [
         "33",
         "ET",
         "Temperature change on land",
         "2025-03-28",
         "",
         "2025-03-28",
         "final",
         "2024",
         "2026-03",
         "final",
         "2025"
        ],
        [
         "34",
         "OA",
         "Annual population",
         "2024-12-31",
         "",
         "2024-12-31",
         "final",
         "2023",
         "",
         "final",
         "2025"
        ],
        [
         "35",
         "OEA",
         "Employment Indicators: Agriculture and agrifood systems",
         "2024-11-14",
         "minor revision",
         "2024-10-24 / 2024-11-14",
         "final",
         "2023",
         "2025-04",
         "final",
         "2024"
        ],
        [
         "36",
         "OER",
         "Employment Indicators: Rural",
         "2025-01-11",
         "minor revision",
         "2024-10-24 / 2025-01-11",
         "final",
         "2023",
         "2025-04",
         "final",
         "2024"
        ],
        [
         "37",
         "IG",
         "Government Expenditure",
         "2025-02-07",
         "",
         "2025-02-07",
         "final",
         "2023",
         "2025-12",
         "final",
         "2024"
        ],
        [
         "38",
         "IC",
         "Credit to Agriculture",
         "2024-12-24",
         "",
         "2024-12-24",
         "final",
         "2023",
         "2025-11",
         "final",
         "2024"
        ],
        [
         "39",
         "EA",
         "Development Flows to Agriculture",
         "2024-11-15",
         "",
         "2024-11-15",
         "final",
         "2022",
         "2025-06",
         "final",
         "2023"
        ],
        [
         "40",
         "FDI",
         "Foreign Direct Investment (FDI)",
         "2025-02-05",
         "",
         "2025-02-05",
         "final",
         "2023",
         "2025-11",
         "final",
         "2024"
        ],
        [
         "41",
         "CISP",
         "Country Investment Statistics Profile",
         "2024-06-26",
         "",
         "2024-06-26",
         "preliminary",
         "2023",
         "2024-10",
         "preliminary",
         "2023"
        ],
        [
         "42",
         "MK",
         "Macro Indicators",
         "2024-06-12",
         "",
         "2024-06-12",
         "preliminary",
         "2023",
         "2024-10",
         "final",
         "2023"
        ],
        [
         "43",
         "CS",
         "Capital Stock",
         "2023-12-22",
         "",
         "2023-12-22",
         "final",
         "2022",
         "2024-11",
         "final",
         "2023"
        ],
        [
         "44",
         "GFDI",
         "Value shares by industry and primary factors",
         "2024-11-19",
         "",
         "2024-11-19",
         "final",
         "2021",
         "",
         "final",
         ""
        ],
        [
         "45",
         "GT",
         "Emissions totals",
         "2024-11-14",
         "",
         "2024-11-14",
         "final",
         "2022",
         "2025-10",
         "final",
         "2023"
        ],
        [
         "46",
         "EM",
         "Emissions indicators",
         "2024-11-14",
         "",
         "2024-11-14",
         "final",
         "2022",
         "2025-10",
         "final",
         "2023"
        ],
        [
         "47",
         "EI",
         "Emissions intensities",
         "2025-02-12",
         "minor revision",
         "2024-11-14 / 2025-02-12",
         "final",
         "2022",
         "2025-10",
         "final",
         "2023"
        ],
        [
         "48",
         "GCE",
         "Emissions from Crops",
         "2024-11-14",
         "",
         "2024-11-14",
         "final",
         "2022",
         "2025-10",
         "final",
         "2023"
        ],
        [
         "49",
         "GLE",
         "Emissions from Livestock",
         "2025-02-12",
         "minor revision",
         "2024-11-14 / 2025-02-12",
         "final",
         "2022",
         "2025-10",
         "final",
         "2023"
        ]
       ],
       "shape": {
        "columns": 10,
        "rows": 68
       }
      },
      "text/html": [
       "<div>\n",
       "<style scoped>\n",
       "    .dataframe tbody tr th:only-of-type {\n",
       "        vertical-align: middle;\n",
       "    }\n",
       "\n",
       "    .dataframe tbody tr th {\n",
       "        vertical-align: top;\n",
       "    }\n",
       "\n",
       "    .dataframe thead th {\n",
       "        text-align: right;\n",
       "    }\n",
       "</style>\n",
       "<table border=\"1\" class=\"dataframe\">\n",
       "  <thead>\n",
       "    <tr style=\"text-align: right;\">\n",
       "      <th></th>\n",
       "      <th>code</th>\n",
       "      <th>label</th>\n",
       "      <th>date_update</th>\n",
       "      <th>note_update</th>\n",
       "      <th>release_current</th>\n",
       "      <th>state_current</th>\n",
       "      <th>year_current</th>\n",
       "      <th>release_next</th>\n",
       "      <th>state_next</th>\n",
       "      <th>year_next</th>\n",
       "    </tr>\n",
       "  </thead>\n",
       "  <tbody>\n",
       "    <tr>\n",
       "      <th>0</th>\n",
       "      <td>QCL</td>\n",
       "      <td>Crops and livestock products</td>\n",
       "      <td>2025-02-27</td>\n",
       "      <td>minor revision</td>\n",
       "      <td>2024-12-20 / 2025-02-27</td>\n",
       "      <td>final</td>\n",
       "      <td>2023</td>\n",
       "      <td>2025-12</td>\n",
       "      <td>final</td>\n",
       "      <td>2024</td>\n",
       "    </tr>\n",
       "    <tr>\n",
       "      <th>1</th>\n",
       "      <td>QI</td>\n",
       "      <td>Production Indices</td>\n",
       "      <td>2025-02-03</td>\n",
       "      <td></td>\n",
       "      <td>2025-02-03</td>\n",
       "      <td>final</td>\n",
       "      <td>2023</td>\n",
       "      <td>2025-12</td>\n",
       "      <td>final</td>\n",
       "      <td>2024</td>\n",
       "    </tr>\n",
       "    <tr>\n",
       "      <th>2</th>\n",
       "      <td>QV</td>\n",
       "      <td>Value of Agricultural Production</td>\n",
       "      <td>2025-02-03</td>\n",
       "      <td></td>\n",
       "      <td>2025-02-03</td>\n",
       "      <td>final</td>\n",
       "      <td>2023</td>\n",
       "      <td>2025-12</td>\n",
       "      <td>final</td>\n",
       "      <td>2024</td>\n",
       "    </tr>\n",
       "    <tr>\n",
       "      <th>3</th>\n",
       "      <td>FS</td>\n",
       "      <td>Suite of Food Security Indicators</td>\n",
       "      <td>2025-03-27</td>\n",
       "      <td>minor revision</td>\n",
       "      <td>2024-07-24 / 2025-03-27</td>\n",
       "      <td>final</td>\n",
       "      <td>2023</td>\n",
       "      <td>2025-07</td>\n",
       "      <td>final</td>\n",
       "      <td>2024</td>\n",
       "    </tr>\n",
       "    <tr>\n",
       "      <th>4</th>\n",
       "      <td>FBS</td>\n",
       "      <td>Food Balances (2010-)</td>\n",
       "      <td>2024-07-19</td>\n",
       "      <td></td>\n",
       "      <td>2024-07-19</td>\n",
       "      <td>final</td>\n",
       "      <td>2022</td>\n",
       "      <td>2025-07</td>\n",
       "      <td>final</td>\n",
       "      <td>2023</td>\n",
       "    </tr>\n",
       "    <tr>\n",
       "      <th>...</th>\n",
       "      <td>...</td>\n",
       "      <td>...</td>\n",
       "      <td>...</td>\n",
       "      <td>...</td>\n",
       "      <td>...</td>\n",
       "      <td>...</td>\n",
       "      <td>...</td>\n",
       "      <td>...</td>\n",
       "      <td>...</td>\n",
       "      <td>...</td>\n",
       "    </tr>\n",
       "    <tr>\n",
       "      <th>63</th>\n",
       "      <td>FA</td>\n",
       "      <td>Food Aid Shipments (WFP)</td>\n",
       "      <td>2016-12-22</td>\n",
       "      <td></td>\n",
       "      <td>2016-12-22</td>\n",
       "      <td>preliminary</td>\n",
       "      <td>2016</td>\n",
       "      <td></td>\n",
       "      <td></td>\n",
       "      <td></td>\n",
       "    </tr>\n",
       "    <tr>\n",
       "      <th>64</th>\n",
       "      <td>RM</td>\n",
       "      <td>Machinery</td>\n",
       "      <td>2021-12-03</td>\n",
       "      <td>minor revision</td>\n",
       "      <td>2011-12-22 / 2021-12-03</td>\n",
       "      <td>final</td>\n",
       "      <td>2009</td>\n",
       "      <td></td>\n",
       "      <td></td>\n",
       "      <td></td>\n",
       "    </tr>\n",
       "    <tr>\n",
       "      <th>65</th>\n",
       "      <td>RY</td>\n",
       "      <td>Machinery Archive</td>\n",
       "      <td>2021-12-03</td>\n",
       "      <td>minor revision</td>\n",
       "      <td>2006-12-31 / 2021-12-03</td>\n",
       "      <td>final</td>\n",
       "      <td>2005</td>\n",
       "      <td></td>\n",
       "      <td></td>\n",
       "      <td></td>\n",
       "    </tr>\n",
       "    <tr>\n",
       "      <th>66</th>\n",
       "      <td>RA</td>\n",
       "      <td>Fertilizers archive</td>\n",
       "      <td>2020-09-08</td>\n",
       "      <td>minor revision</td>\n",
       "      <td>2013-12-31 / 2020-09-08</td>\n",
       "      <td>final</td>\n",
       "      <td>2002</td>\n",
       "      <td></td>\n",
       "      <td></td>\n",
       "      <td></td>\n",
       "    </tr>\n",
       "    <tr>\n",
       "      <th>67</th>\n",
       "      <td>PA</td>\n",
       "      <td>Producer Prices (old series)</td>\n",
       "      <td>1991-12-31</td>\n",
       "      <td></td>\n",
       "      <td>1991-12-31</td>\n",
       "      <td>final</td>\n",
       "      <td>1990</td>\n",
       "      <td></td>\n",
       "      <td></td>\n",
       "      <td></td>\n",
       "    </tr>\n",
       "  </tbody>\n",
       "</table>\n",
       "<p>68 rows × 10 columns</p>\n",
       "</div>"
      ],
      "text/plain": [
       "   code                              label date_update     note_update  \\\n",
       "0   QCL       Crops and livestock products  2025-02-27  minor revision   \n",
       "1    QI                 Production Indices  2025-02-03                   \n",
       "2    QV   Value of Agricultural Production  2025-02-03                   \n",
       "3    FS  Suite of Food Security Indicators  2025-03-27  minor revision   \n",
       "4   FBS              Food Balances (2010-)  2024-07-19                   \n",
       "..  ...                                ...         ...             ...   \n",
       "63   FA           Food Aid Shipments (WFP)  2016-12-22                   \n",
       "64   RM                          Machinery  2021-12-03  minor revision   \n",
       "65   RY                  Machinery Archive  2021-12-03  minor revision   \n",
       "66   RA                Fertilizers archive  2020-09-08  minor revision   \n",
       "67   PA       Producer Prices (old series)  1991-12-31                   \n",
       "\n",
       "            release_current state_current year_current release_next  \\\n",
       "0   2024-12-20 / 2025-02-27         final         2023      2025-12   \n",
       "1                2025-02-03         final         2023      2025-12   \n",
       "2                2025-02-03         final         2023      2025-12   \n",
       "3   2024-07-24 / 2025-03-27         final         2023      2025-07   \n",
       "4                2024-07-19         final         2022      2025-07   \n",
       "..                      ...           ...          ...          ...   \n",
       "63               2016-12-22   preliminary         2016                \n",
       "64  2011-12-22 / 2021-12-03         final         2009                \n",
       "65  2006-12-31 / 2021-12-03         final         2005                \n",
       "66  2013-12-31 / 2020-09-08         final         2002                \n",
       "67               1991-12-31         final         1990                \n",
       "\n",
       "   state_next year_next  \n",
       "0       final      2024  \n",
       "1       final      2024  \n",
       "2       final      2024  \n",
       "3       final      2024  \n",
       "4       final      2023  \n",
       "..        ...       ...  \n",
       "63                       \n",
       "64                       \n",
       "65                       \n",
       "66                       \n",
       "67                       \n",
       "\n",
       "[68 rows x 10 columns]"
      ]
     },
     "execution_count": 4,
     "metadata": {},
     "output_type": "execute_result"
    }
   ],
   "source": [
    "faostat.list_datasets_df()"
   ]
  },
  {
   "cell_type": "code",
   "execution_count": 9,
   "id": "7e288968",
   "metadata": {},
   "outputs": [
    {
     "data": {
      "application/vnd.microsoft.datawrangler.viewer.v0+json": {
       "columns": [
        {
         "name": "index",
         "rawType": "int64",
         "type": "integer"
        },
        {
         "name": "parameter code",
         "rawType": "object",
         "type": "string"
        },
        {
         "name": "coding_systems",
         "rawType": "object",
         "type": "unknown"
        },
        {
         "name": "subdimensions {code: meaning}",
         "rawType": "object",
         "type": "unknown"
        }
       ],
       "conversionMethod": "pd.DataFrame",
       "ref": "476778ac-2585-4854-9d89-104ac55c532b",
       "rows": [
        [
         "0",
         "area",
         "['M49', 'FAO', 'ISO2', 'ISO3']",
         "{'countries': 'Countries', 'regions': 'Regions', 'specialgroups': 'Special Groups'}"
        ],
        [
         "1",
         "element",
         "[]",
         "{'elements': 'Elements'}"
        ],
        [
         "2",
         "item",
         "[]",
         "{'items': 'Items'}"
        ],
        [
         "3",
         "year",
         "[]",
         "{'years': 'Years'}"
        ]
       ],
       "shape": {
        "columns": 3,
        "rows": 4
       }
      },
      "text/html": [
       "<div>\n",
       "<style scoped>\n",
       "    .dataframe tbody tr th:only-of-type {\n",
       "        vertical-align: middle;\n",
       "    }\n",
       "\n",
       "    .dataframe tbody tr th {\n",
       "        vertical-align: top;\n",
       "    }\n",
       "\n",
       "    .dataframe thead th {\n",
       "        text-align: right;\n",
       "    }\n",
       "</style>\n",
       "<table border=\"1\" class=\"dataframe\">\n",
       "  <thead>\n",
       "    <tr style=\"text-align: right;\">\n",
       "      <th></th>\n",
       "      <th>parameter code</th>\n",
       "      <th>coding_systems</th>\n",
       "      <th>subdimensions {code: meaning}</th>\n",
       "    </tr>\n",
       "  </thead>\n",
       "  <tbody>\n",
       "    <tr>\n",
       "      <th>0</th>\n",
       "      <td>area</td>\n",
       "      <td>[M49, FAO, ISO2, ISO3]</td>\n",
       "      <td>{'countries': 'Countries', 'regions': 'Regions...</td>\n",
       "    </tr>\n",
       "    <tr>\n",
       "      <th>1</th>\n",
       "      <td>element</td>\n",
       "      <td>[]</td>\n",
       "      <td>{'elements': 'Elements'}</td>\n",
       "    </tr>\n",
       "    <tr>\n",
       "      <th>2</th>\n",
       "      <td>item</td>\n",
       "      <td>[]</td>\n",
       "      <td>{'items': 'Items'}</td>\n",
       "    </tr>\n",
       "    <tr>\n",
       "      <th>3</th>\n",
       "      <td>year</td>\n",
       "      <td>[]</td>\n",
       "      <td>{'years': 'Years'}</td>\n",
       "    </tr>\n",
       "  </tbody>\n",
       "</table>\n",
       "</div>"
      ],
      "text/plain": [
       "  parameter code          coding_systems  \\\n",
       "0           area  [M49, FAO, ISO2, ISO3]   \n",
       "1        element                      []   \n",
       "2           item                      []   \n",
       "3           year                      []   \n",
       "\n",
       "                       subdimensions {code: meaning}  \n",
       "0  {'countries': 'Countries', 'regions': 'Regions...  \n",
       "1                           {'elements': 'Elements'}  \n",
       "2                                 {'items': 'Items'}  \n",
       "3                                 {'years': 'Years'}  "
      ]
     },
     "execution_count": 9,
     "metadata": {},
     "output_type": "execute_result"
    }
   ],
   "source": [
    "faostat.list_pars_df('LC')"
   ]
  },
  {
   "cell_type": "code",
   "execution_count": 10,
   "id": "51ce1b39",
   "metadata": {},
   "outputs": [
    {
     "data": {
      "application/vnd.microsoft.datawrangler.viewer.v0+json": {
       "columns": [
        {
         "name": "index",
         "rawType": "int64",
         "type": "integer"
        },
        {
         "name": "label",
         "rawType": "object",
         "type": "string"
        },
        {
         "name": "code",
         "rawType": "object",
         "type": "string"
        },
        {
         "name": "aggregate_type",
         "rawType": "object",
         "type": "string"
        }
       ],
       "conversionMethod": "pd.DataFrame",
       "ref": "de61806a-8c39-4e91-b8d3-7933e9baa91b",
       "rows": [
        [
         "0",
         "Afghanistan",
         "2",
         "0"
        ],
        [
         "1",
         "Albania",
         "3",
         "0"
        ],
        [
         "2",
         "Algeria",
         "4",
         "0"
        ],
        [
         "3",
         "American Samoa",
         "5",
         "0"
        ],
        [
         "4",
         "Andorra",
         "6",
         "0"
        ],
        [
         "5",
         "Angola",
         "7",
         "0"
        ],
        [
         "6",
         "Anguilla",
         "258",
         "0"
        ],
        [
         "7",
         "Antarctica",
         "30",
         "0"
        ],
        [
         "8",
         "Antigua and Barbuda",
         "8",
         "0"
        ],
        [
         "9",
         "Argentina",
         "9",
         "0"
        ],
        [
         "10",
         "Armenia",
         "1",
         "0"
        ],
        [
         "11",
         "Aruba",
         "22",
         "0"
        ],
        [
         "12",
         "Ascension, Saint Helena and Tristan da Cunha",
         "187",
         "0"
        ],
        [
         "13",
         "Australia",
         "10",
         "0"
        ],
        [
         "14",
         "Austria",
         "11",
         "0"
        ],
        [
         "15",
         "Azerbaijan",
         "52",
         "0"
        ],
        [
         "16",
         "Bahamas",
         "12",
         "0"
        ],
        [
         "17",
         "Bahrain",
         "13",
         "0"
        ],
        [
         "18",
         "Bangladesh",
         "16",
         "0"
        ],
        [
         "19",
         "Barbados",
         "14",
         "0"
        ],
        [
         "20",
         "Belarus",
         "57",
         "0"
        ],
        [
         "21",
         "Belgium",
         "255",
         "0"
        ],
        [
         "22",
         "Belgium-Luxembourg",
         "15",
         "0"
        ],
        [
         "23",
         "Belize",
         "23",
         "0"
        ],
        [
         "24",
         "Benin",
         "53",
         "0"
        ],
        [
         "25",
         "Bermuda",
         "17",
         "0"
        ],
        [
         "26",
         "Bhutan",
         "18",
         "0"
        ],
        [
         "27",
         "Bolivia (Plurinational State of)",
         "19",
         "0"
        ],
        [
         "28",
         "Bosnia and Herzegovina",
         "80",
         "0"
        ],
        [
         "29",
         "Botswana",
         "20",
         "0"
        ],
        [
         "30",
         "Brazil",
         "21",
         "0"
        ],
        [
         "31",
         "British Virgin Islands",
         "239",
         "0"
        ],
        [
         "32",
         "Brunei Darussalam",
         "26",
         "0"
        ],
        [
         "33",
         "Bulgaria",
         "27",
         "0"
        ],
        [
         "34",
         "Burkina Faso",
         "233",
         "0"
        ],
        [
         "35",
         "Burundi",
         "29",
         "0"
        ],
        [
         "36",
         "Cabo Verde",
         "35",
         "0"
        ],
        [
         "37",
         "Cambodia",
         "115",
         "0"
        ],
        [
         "38",
         "Cameroon",
         "32",
         "0"
        ],
        [
         "39",
         "Canada",
         "33",
         "0"
        ],
        [
         "40",
         "Cayman Islands",
         "36",
         "0"
        ],
        [
         "41",
         "Central African Republic",
         "37",
         "0"
        ],
        [
         "42",
         "Chad",
         "39",
         "0"
        ],
        [
         "43",
         "Chagos Archipelago",
         "24",
         "0"
        ],
        [
         "44",
         "Channel Islands",
         "259",
         "0"
        ],
        [
         "45",
         "Chile",
         "40",
         "0"
        ],
        [
         "46",
         "China",
         "351",
         "0"
        ],
        [
         "47",
         "China, Hong Kong SAR",
         "96",
         "0"
        ],
        [
         "48",
         "China, Macao SAR",
         "128",
         "0"
        ],
        [
         "49",
         "China, mainland",
         "41",
         "0"
        ]
       ],
       "shape": {
        "columns": 3,
        "rows": 315
       }
      },
      "text/html": [
       "<div>\n",
       "<style scoped>\n",
       "    .dataframe tbody tr th:only-of-type {\n",
       "        vertical-align: middle;\n",
       "    }\n",
       "\n",
       "    .dataframe tbody tr th {\n",
       "        vertical-align: top;\n",
       "    }\n",
       "\n",
       "    .dataframe thead th {\n",
       "        text-align: right;\n",
       "    }\n",
       "</style>\n",
       "<table border=\"1\" class=\"dataframe\">\n",
       "  <thead>\n",
       "    <tr style=\"text-align: right;\">\n",
       "      <th></th>\n",
       "      <th>label</th>\n",
       "      <th>code</th>\n",
       "      <th>aggregate_type</th>\n",
       "    </tr>\n",
       "  </thead>\n",
       "  <tbody>\n",
       "    <tr>\n",
       "      <th>0</th>\n",
       "      <td>Afghanistan</td>\n",
       "      <td>2</td>\n",
       "      <td>0</td>\n",
       "    </tr>\n",
       "    <tr>\n",
       "      <th>1</th>\n",
       "      <td>Albania</td>\n",
       "      <td>3</td>\n",
       "      <td>0</td>\n",
       "    </tr>\n",
       "    <tr>\n",
       "      <th>2</th>\n",
       "      <td>Algeria</td>\n",
       "      <td>4</td>\n",
       "      <td>0</td>\n",
       "    </tr>\n",
       "    <tr>\n",
       "      <th>3</th>\n",
       "      <td>American Samoa</td>\n",
       "      <td>5</td>\n",
       "      <td>0</td>\n",
       "    </tr>\n",
       "    <tr>\n",
       "      <th>4</th>\n",
       "      <td>Andorra</td>\n",
       "      <td>6</td>\n",
       "      <td>0</td>\n",
       "    </tr>\n",
       "    <tr>\n",
       "      <th>...</th>\n",
       "      <td>...</td>\n",
       "      <td>...</td>\n",
       "      <td>...</td>\n",
       "    </tr>\n",
       "    <tr>\n",
       "      <th>310</th>\n",
       "      <td>Small Island Developing States (SIDS) &gt; (List)</td>\n",
       "      <td>5803&gt;</td>\n",
       "      <td>&gt;</td>\n",
       "    </tr>\n",
       "    <tr>\n",
       "      <th>311</th>\n",
       "      <td>Low Income Food Deficit Countries (LIFDCs) + (...</td>\n",
       "      <td>5815</td>\n",
       "      <td>+</td>\n",
       "    </tr>\n",
       "    <tr>\n",
       "      <th>312</th>\n",
       "      <td>Low Income Food Deficit Countries (LIFDCs) &gt; (...</td>\n",
       "      <td>5815&gt;</td>\n",
       "      <td>&gt;</td>\n",
       "    </tr>\n",
       "    <tr>\n",
       "      <th>313</th>\n",
       "      <td>Net Food Importing Developing Countries (NFIDC...</td>\n",
       "      <td>5817</td>\n",
       "      <td>+</td>\n",
       "    </tr>\n",
       "    <tr>\n",
       "      <th>314</th>\n",
       "      <td>Net Food Importing Developing Countries (NFIDC...</td>\n",
       "      <td>5817&gt;</td>\n",
       "      <td>&gt;</td>\n",
       "    </tr>\n",
       "  </tbody>\n",
       "</table>\n",
       "<p>315 rows × 3 columns</p>\n",
       "</div>"
      ],
      "text/plain": [
       "                                                 label   code aggregate_type\n",
       "0                                          Afghanistan      2              0\n",
       "1                                              Albania      3              0\n",
       "2                                              Algeria      4              0\n",
       "3                                       American Samoa      5              0\n",
       "4                                              Andorra      6              0\n",
       "..                                                 ...    ...            ...\n",
       "310     Small Island Developing States (SIDS) > (List)  5803>              >\n",
       "311  Low Income Food Deficit Countries (LIFDCs) + (...   5815              +\n",
       "312  Low Income Food Deficit Countries (LIFDCs) > (...  5815>              >\n",
       "313  Net Food Importing Developing Countries (NFIDC...   5817              +\n",
       "314  Net Food Importing Developing Countries (NFIDC...  5817>              >\n",
       "\n",
       "[315 rows x 3 columns]"
      ]
     },
     "execution_count": 10,
     "metadata": {},
     "output_type": "execute_result"
    }
   ],
   "source": [
    "faostat.get_par_df('LC', 'area')"
   ]
  },
  {
   "cell_type": "code",
   "execution_count": 12,
   "id": "e21baef0",
   "metadata": {},
   "outputs": [
    {
     "data": {
      "application/vnd.microsoft.datawrangler.viewer.v0+json": {
       "columns": [
        {
         "name": "index",
         "rawType": "int64",
         "type": "integer"
        },
        {
         "name": "label",
         "rawType": "object",
         "type": "string"
        },
        {
         "name": "code",
         "rawType": "object",
         "type": "string"
        },
        {
         "name": "aggregate_type",
         "rawType": "object",
         "type": "string"
        }
       ],
       "conversionMethod": "pd.DataFrame",
       "ref": "20f197e8-284d-4fee-a726-1f41ec860558",
       "rows": [
        [
         "0",
         "European Union (27) + (Total)",
         "5707",
         "+"
        ],
        [
         "1",
         "European Union (27) > (List)",
         "5707>",
         ">"
        ],
        [
         "2",
         "Least Developed Countries (LDCs) + (Total)",
         "5801",
         "+"
        ],
        [
         "3",
         "Least Developed Countries (LDCs) > (List)",
         "5801>",
         ">"
        ],
        [
         "4",
         "Land Locked Developing Countries (LLDCs) + (Total)",
         "5802",
         "+"
        ],
        [
         "5",
         "Land Locked Developing Countries (LLDCs) > (List)",
         "5802>",
         ">"
        ],
        [
         "6",
         "Small Island Developing States (SIDS) + (Total)",
         "5803",
         "+"
        ],
        [
         "7",
         "Small Island Developing States (SIDS) > (List)",
         "5803>",
         ">"
        ],
        [
         "8",
         "Low Income Food Deficit Countries (LIFDCs) + (Total)",
         "5815",
         "+"
        ],
        [
         "9",
         "Low Income Food Deficit Countries (LIFDCs) > (List)",
         "5815>",
         ">"
        ],
        [
         "10",
         "Net Food Importing Developing Countries (NFIDCs) + (Total)",
         "5817",
         "+"
        ],
        [
         "11",
         "Net Food Importing Developing Countries (NFIDCs) > (List)",
         "5817>",
         ">"
        ]
       ],
       "shape": {
        "columns": 3,
        "rows": 12
       }
      },
      "text/html": [
       "<div>\n",
       "<style scoped>\n",
       "    .dataframe tbody tr th:only-of-type {\n",
       "        vertical-align: middle;\n",
       "    }\n",
       "\n",
       "    .dataframe tbody tr th {\n",
       "        vertical-align: top;\n",
       "    }\n",
       "\n",
       "    .dataframe thead th {\n",
       "        text-align: right;\n",
       "    }\n",
       "</style>\n",
       "<table border=\"1\" class=\"dataframe\">\n",
       "  <thead>\n",
       "    <tr style=\"text-align: right;\">\n",
       "      <th></th>\n",
       "      <th>label</th>\n",
       "      <th>code</th>\n",
       "      <th>aggregate_type</th>\n",
       "    </tr>\n",
       "  </thead>\n",
       "  <tbody>\n",
       "    <tr>\n",
       "      <th>0</th>\n",
       "      <td>European Union (27) + (Total)</td>\n",
       "      <td>5707</td>\n",
       "      <td>+</td>\n",
       "    </tr>\n",
       "    <tr>\n",
       "      <th>1</th>\n",
       "      <td>European Union (27) &gt; (List)</td>\n",
       "      <td>5707&gt;</td>\n",
       "      <td>&gt;</td>\n",
       "    </tr>\n",
       "    <tr>\n",
       "      <th>2</th>\n",
       "      <td>Least Developed Countries (LDCs) + (Total)</td>\n",
       "      <td>5801</td>\n",
       "      <td>+</td>\n",
       "    </tr>\n",
       "    <tr>\n",
       "      <th>3</th>\n",
       "      <td>Least Developed Countries (LDCs) &gt; (List)</td>\n",
       "      <td>5801&gt;</td>\n",
       "      <td>&gt;</td>\n",
       "    </tr>\n",
       "    <tr>\n",
       "      <th>4</th>\n",
       "      <td>Land Locked Developing Countries (LLDCs) + (To...</td>\n",
       "      <td>5802</td>\n",
       "      <td>+</td>\n",
       "    </tr>\n",
       "    <tr>\n",
       "      <th>5</th>\n",
       "      <td>Land Locked Developing Countries (LLDCs) &gt; (List)</td>\n",
       "      <td>5802&gt;</td>\n",
       "      <td>&gt;</td>\n",
       "    </tr>\n",
       "    <tr>\n",
       "      <th>6</th>\n",
       "      <td>Small Island Developing States (SIDS) + (Total)</td>\n",
       "      <td>5803</td>\n",
       "      <td>+</td>\n",
       "    </tr>\n",
       "    <tr>\n",
       "      <th>7</th>\n",
       "      <td>Small Island Developing States (SIDS) &gt; (List)</td>\n",
       "      <td>5803&gt;</td>\n",
       "      <td>&gt;</td>\n",
       "    </tr>\n",
       "    <tr>\n",
       "      <th>8</th>\n",
       "      <td>Low Income Food Deficit Countries (LIFDCs) + (...</td>\n",
       "      <td>5815</td>\n",
       "      <td>+</td>\n",
       "    </tr>\n",
       "    <tr>\n",
       "      <th>9</th>\n",
       "      <td>Low Income Food Deficit Countries (LIFDCs) &gt; (...</td>\n",
       "      <td>5815&gt;</td>\n",
       "      <td>&gt;</td>\n",
       "    </tr>\n",
       "    <tr>\n",
       "      <th>10</th>\n",
       "      <td>Net Food Importing Developing Countries (NFIDC...</td>\n",
       "      <td>5817</td>\n",
       "      <td>+</td>\n",
       "    </tr>\n",
       "    <tr>\n",
       "      <th>11</th>\n",
       "      <td>Net Food Importing Developing Countries (NFIDC...</td>\n",
       "      <td>5817&gt;</td>\n",
       "      <td>&gt;</td>\n",
       "    </tr>\n",
       "  </tbody>\n",
       "</table>\n",
       "</div>"
      ],
      "text/plain": [
       "                                                label   code aggregate_type\n",
       "0                       European Union (27) + (Total)   5707              +\n",
       "1                        European Union (27) > (List)  5707>              >\n",
       "2          Least Developed Countries (LDCs) + (Total)   5801              +\n",
       "3           Least Developed Countries (LDCs) > (List)  5801>              >\n",
       "4   Land Locked Developing Countries (LLDCs) + (To...   5802              +\n",
       "5   Land Locked Developing Countries (LLDCs) > (List)  5802>              >\n",
       "6     Small Island Developing States (SIDS) + (Total)   5803              +\n",
       "7      Small Island Developing States (SIDS) > (List)  5803>              >\n",
       "8   Low Income Food Deficit Countries (LIFDCs) + (...   5815              +\n",
       "9   Low Income Food Deficit Countries (LIFDCs) > (...  5815>              >\n",
       "10  Net Food Importing Developing Countries (NFIDC...   5817              +\n",
       "11  Net Food Importing Developing Countries (NFIDC...  5817>              >"
      ]
     },
     "execution_count": 12,
     "metadata": {},
     "output_type": "execute_result"
    }
   ],
   "source": [
    "faostat.get_par_df('LC', 'specialgroups')"
   ]
  }
 ],
 "metadata": {
  "kernelspec": {
   "display_name": "data_scraping",
   "language": "python",
   "name": "python3"
  },
  "language_info": {
   "codemirror_mode": {
    "name": "ipython",
    "version": 3
   },
   "file_extension": ".py",
   "mimetype": "text/x-python",
   "name": "python",
   "nbconvert_exporter": "python",
   "pygments_lexer": "ipython3",
   "version": "3.9.21"
  }
 },
 "nbformat": 4,
 "nbformat_minor": 5
}
